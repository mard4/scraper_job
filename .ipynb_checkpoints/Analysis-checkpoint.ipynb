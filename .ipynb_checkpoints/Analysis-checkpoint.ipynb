{
 "cells": [
  {
   "cell_type": "code",
   "execution_count": 28,
   "id": "5e23c305",
   "metadata": {},
   "outputs": [
    {
     "name": "stderr",
     "output_type": "stream",
     "text": [
      "[nltk_data] Downloading package stopwords to\n",
      "[nltk_data]     C:\\Users\\marti\\AppData\\Roaming\\nltk_data...\n",
      "[nltk_data]   Package stopwords is already up-to-date!\n",
      "[nltk_data] Downloading package punkt to\n",
      "[nltk_data]     C:\\Users\\marti\\AppData\\Roaming\\nltk_data...\n",
      "[nltk_data]   Package punkt is already up-to-date!\n"
     ]
    }
   ],
   "source": [
    "# Necessary libraries\n",
    "import warnings\n",
    "warnings.filterwarnings('ignore')\n",
    "import pandas as pd\n",
    "import string\n",
    "import numpy as np\n",
    "import string\n",
    "import nltk\n",
    "import matplotlib.pyplot as plt\n",
    "import plotly.express as px\n",
    "from wordcloud import WordCloud\n",
    "nltk.download('stopwords')\n",
    "nltk.download('punkt')\n",
    "from nltk.corpus import stopwords\n",
    "from nltk.tokenize import word_tokenize\n",
    "\n",
    "from ScraperWikipedia import scrape_programming_languages\n",
    "from ScraperIndeed import scrape_indeed"
   ]
  },
  {
   "cell_type": "markdown",
   "id": "a4922cb6",
   "metadata": {},
   "source": [
    "## Scraper"
   ]
  },
  {
   "cell_type": "code",
   "execution_count": 29,
   "id": "77728d7c",
   "metadata": {},
   "outputs": [
    {
     "name": "stdout",
     "output_type": "stream",
     "text": [
      "..number of languages scraped: 399\n",
      "..number of visualization tools scraped: 81\n",
      "..URL for scraping: https://it.indeed.com/jobs?q=Data%20Analyst&l=Milano%20Est%2C%20Lombardia&from=searchOnHP\n",
      "..number of jobs scraped: 15\n",
      ".. WEB Scraper is done\n"
     ]
    }
   ],
   "source": [
    "# Use the created functions from ScraperIndeed/ScraperWikipedia to scrape data\n",
    "programming_languages0 = scrape_programming_languages()\n",
    "\n",
    "# Insert work you want to search and location (for now it works only for Italy or manually change the link to your country)\n",
    "work = \"Data Analyst\"\n",
    "location = \"Milano\"\n",
    "df_indeed = scrape_indeed(work, location)\n",
    "print('.. WEB Scraper is done')"
   ]
  },
  {
   "cell_type": "code",
   "execution_count": 30,
   "id": "be337247",
   "metadata": {},
   "outputs": [],
   "source": [
    "filename = f\"Indeed_scraper_{work}_in_{location}\"\n",
    "filename2 = f\"Wiki_scraper_{work}_in_{location}\"\n",
    "# programming_languages0.to_excel(f\"{filename2}.xlsx\") #comment if you dont want an excel generated\n",
    "#df_indeed.to_excel(f\"{filename}.xlsx\")  #comment if you dont want an excel generated"
   ]
  },
  {
   "cell_type": "markdown",
   "id": "fef52331",
   "metadata": {},
   "source": [
    "## Run only this if you dont want to wait for scraper"
   ]
  },
  {
   "cell_type": "code",
   "execution_count": 21,
   "id": "01e7a2d1",
   "metadata": {},
   "outputs": [],
   "source": [
    "work = \"Data Analyst\"\n",
    "location = \"Milano\"\n",
    "\n",
    "filename = f\"Indeed_scraper_{work}_in_{location}\"\n",
    "filename2 = f\"Wiki_scraper_{work}_in_{location}\"\n",
    "\n",
    "df_indeed = pd.read_excel(f\"{filename}.xlsx\")\n",
    "programming_languages0 = pd.read_excel(f\"{filename2}.xlsx\")"
   ]
  },
  {
   "cell_type": "code",
   "execution_count": 31,
   "id": "dc1cefd4",
   "metadata": {},
   "outputs": [
    {
     "name": "stdout",
     "output_type": "stream",
     "text": [
      "                                            JobTitle          Company  \\\n",
      "0                                   Business Analyst     OverIT S.p.A   \n",
      "1                                  Financial Analyst     ICHI STATION   \n",
      "2  S&P Global Ratings - Non-Bank Financial Instit...       S&P Global   \n",
      "3           MILANO - Data Analyst Revenue Short Rent  CleanBnB S.p.A.   \n",
      "4                      Data Engineer (hybrid-remote)    Expandi Group   \n",
      "5                  HR Digital Transformation Analyst    UNIPOL GRUPPO   \n",
      "6               Senior Business Intelligence Analyst      Sicuritalia   \n",
      "7                              Data Analyst - Milano         ISCS SRL   \n",
      "8                  DATA ANALYST JUNIOR - IT1DAJ323MI  IFOA MANAGEMENT   \n",
      "9                            Desktop Support Analyst             Arup   \n",
      "\n",
      "                         Location  \\\n",
      "0  Da remoto in Milano, Lombardia   \n",
      "1                    20154 Milano   \n",
      "2                    20121 Milano   \n",
      "3       Da remoto in 20146 Milano   \n",
      "4       Da remoto in 20125 Milano   \n",
      "5               Milano, Lombardia   \n",
      "6  Da remoto in Milano, Lombardia   \n",
      "7               Milano, Lombardia   \n",
      "8   Sesto San Giovanni, Lombardia   \n",
      "9  Da remoto in Milano, Lombardia   \n",
      "\n",
      "                                         Description Ratings        Job_types  \\\n",
      "0  Experience with SQL (access, retrieve, manipul...     4,3      Tempo pieno   \n",
      "1  Un luogo che è partenza ed arrivo.\\nUn percors...     NaN              NaN   \n",
      "2  Strong communication and interpersonal skills ...     NaN              NaN   \n",
      "3  Ricerchiamo profili interessati ad iniziare un...     3,6  Tempo pieno\\n+2   \n",
      "4  Conoscenza di data orchestration tool, preferi...     NaN              NaN   \n",
      "5  HR Data analysis: analisi strategiche sui prin...     3,9      Tempo pieno   \n",
      "6  Progettazione dello strato di presentazione se...     2,9      Tempo pieno   \n",
      "7  Come Data Analyst ti occuperai di estrapolare ...     NaN      Tempo pieno   \n",
      "8  Da inserire in un percorso di formazione gratu...     3,9  Tempo pieno\\n+1   \n",
      "9  You will help to increase business productivit...     4,0      Tempo pieno   \n",
      "\n",
      "                         Salary  Pubblication_Date  \n",
      "0                           NaN      30+ giorni fa  \n",
      "1  24.000 € - 28.000 € all'anno       28 giorni fa  \n",
      "2                           NaN      30+ giorni fa  \n",
      "3                           NaN       11 giorni fa  \n",
      "4                           NaN       11 giorni fa  \n",
      "5                           NaN  Appena pubblicato  \n",
      "6                           NaN      30+ giorni fa  \n",
      "7                           NaN        6 giorni fa  \n",
      "8                           NaN       11 giorni fa  \n",
      "9                           NaN  Appena pubblicato  \n",
      "<class 'pandas.core.frame.DataFrame'>\n",
      "RangeIndex: 15 entries, 0 to 14\n",
      "Data columns (total 8 columns):\n",
      " #   Column             Non-Null Count  Dtype \n",
      "---  ------             --------------  ----- \n",
      " 0   JobTitle           15 non-null     object\n",
      " 1   Company            15 non-null     object\n",
      " 2   Location           15 non-null     object\n",
      " 3   Description        15 non-null     object\n",
      " 4   Ratings            9 non-null      object\n",
      " 5   Job_types          12 non-null     object\n",
      " 6   Salary             1 non-null      object\n",
      " 7   Pubblication_Date  15 non-null     object\n",
      "dtypes: object(8)\n",
      "memory usage: 1.1+ KB\n",
      "None\n"
     ]
    }
   ],
   "source": [
    "# Importing Data and Data Exploration\n",
    "dati = df_indeed.copy()\n",
    "print(dati.head(10))\n",
    "print(dati.info())"
   ]
  },
  {
   "cell_type": "markdown",
   "id": "65c127f5",
   "metadata": {},
   "source": [
    "## Plot companies ratings"
   ]
  },
  {
   "cell_type": "code",
   "execution_count": 32,
   "id": "e553b0b5",
   "metadata": {},
   "outputs": [
    {
     "name": "stdout",
     "output_type": "stream",
     "text": [
      "Companies without rating: ['Expandi Group' 'ICHI STATION' 'ISCS SRL' 'KA Resources' 'KEKYJOB SRL'\n",
      " 'S&P Global']\n"
     ]
    },
    {
     "data": {
      "application/vnd.plotly.v1+json": {
       "config": {
        "plotlyServerURL": "https://plot.ly"
       },
       "data": [
        {
         "alignmentgroup": "True",
         "customdata": [
          [
           "Da remoto in Milano, Lombardia",
           "Tempo pieno"
          ]
         ],
         "hovertemplate": "Ratings=%{y}<br>Company=%{x}<br>Location=%{customdata[0]}<br>Job_types=%{customdata[1]}<extra></extra>",
         "legendgroup": "2.9",
         "marker": {
          "color": "#636efa",
          "pattern": {
           "shape": ""
          }
         },
         "name": "2.9",
         "offsetgroup": "2.9",
         "orientation": "v",
         "showlegend": true,
         "textposition": "auto",
         "type": "bar",
         "x": [
          "Sicuritalia"
         ],
         "xaxis": "x",
         "y": [
          2.9
         ],
         "yaxis": "y"
        },
        {
         "alignmentgroup": "True",
         "customdata": [
          [
           "20024 Garbagnate Milanese",
           "Apprendistato"
          ]
         ],
         "hovertemplate": "Ratings=%{y}<br>Company=%{x}<br>Location=%{customdata[0]}<br>Job_types=%{customdata[1]}<extra></extra>",
         "legendgroup": "3.3",
         "marker": {
          "color": "#EF553B",
          "pattern": {
           "shape": ""
          }
         },
         "name": "3.3",
         "offsetgroup": "3.3",
         "orientation": "v",
         "showlegend": true,
         "textposition": "auto",
         "type": "bar",
         "x": [
          "Life in"
         ],
         "xaxis": "x",
         "y": [
          3.3
         ],
         "yaxis": "y"
        },
        {
         "alignmentgroup": "True",
         "customdata": [
          [
           "20098 San Giuliano Milanese",
           "Tempo indeterminato\n+1"
          ]
         ],
         "hovertemplate": "Ratings=%{y}<br>Company=%{x}<br>Location=%{customdata[0]}<br>Job_types=%{customdata[1]}<extra></extra>",
         "legendgroup": "3.5",
         "marker": {
          "color": "#00cc96",
          "pattern": {
           "shape": ""
          }
         },
         "name": "3.5",
         "offsetgroup": "3.5",
         "orientation": "v",
         "showlegend": true,
         "textposition": "auto",
         "type": "bar",
         "x": [
          "Lavoropiù S.p.a."
         ],
         "xaxis": "x",
         "y": [
          3.5
         ],
         "yaxis": "y"
        },
        {
         "alignmentgroup": "True",
         "customdata": [
          [
           "Da remoto in 20146 Milano",
           "Tempo pieno\n+2"
          ]
         ],
         "hovertemplate": "Ratings=%{y}<br>Company=%{x}<br>Location=%{customdata[0]}<br>Job_types=%{customdata[1]}<extra></extra>",
         "legendgroup": "3.6",
         "marker": {
          "color": "#ab63fa",
          "pattern": {
           "shape": ""
          }
         },
         "name": "3.6",
         "offsetgroup": "3.6",
         "orientation": "v",
         "showlegend": true,
         "textposition": "auto",
         "type": "bar",
         "x": [
          "CleanBnB S.p.A."
         ],
         "xaxis": "x",
         "y": [
          3.6
         ],
         "yaxis": "y"
        },
        {
         "alignmentgroup": "True",
         "customdata": [
          [
           "Milano, Lombardia",
           "Tempo pieno"
          ],
          [
           "Sesto San Giovanni, Lombardia",
           "Tempo pieno\n+1"
          ],
          [
           "Milano, Lombardia",
           "Tirocinio formativo/stage"
          ]
         ],
         "hovertemplate": "Ratings=%{y}<br>Company=%{x}<br>Location=%{customdata[0]}<br>Job_types=%{customdata[1]}<extra></extra>",
         "legendgroup": "3.9",
         "marker": {
          "color": "#FFA15A",
          "pattern": {
           "shape": ""
          }
         },
         "name": "3.9",
         "offsetgroup": "3.9",
         "orientation": "v",
         "showlegend": true,
         "textposition": "auto",
         "type": "bar",
         "x": [
          "UNIPOL GRUPPO",
          "IFOA MANAGEMENT",
          "Deloitte"
         ],
         "xaxis": "x",
         "y": [
          3.9,
          3.9,
          3.9
         ],
         "yaxis": "y"
        },
        {
         "alignmentgroup": "True",
         "customdata": [
          [
           "Da remoto in Milano, Lombardia",
           "Tempo pieno"
          ]
         ],
         "hovertemplate": "Ratings=%{y}<br>Company=%{x}<br>Location=%{customdata[0]}<br>Job_types=%{customdata[1]}<extra></extra>",
         "legendgroup": "4.0",
         "marker": {
          "color": "#19d3f3",
          "pattern": {
           "shape": ""
          }
         },
         "name": "4.0",
         "offsetgroup": "4.0",
         "orientation": "v",
         "showlegend": true,
         "textposition": "auto",
         "type": "bar",
         "x": [
          "Arup"
         ],
         "xaxis": "x",
         "y": [
          4
         ],
         "yaxis": "y"
        },
        {
         "alignmentgroup": "True",
         "customdata": [
          [
           "Da remoto in Milano, Lombardia",
           "Tempo pieno"
          ]
         ],
         "hovertemplate": "Ratings=%{y}<br>Company=%{x}<br>Location=%{customdata[0]}<br>Job_types=%{customdata[1]}<extra></extra>",
         "legendgroup": "4.3",
         "marker": {
          "color": "#FF6692",
          "pattern": {
           "shape": ""
          }
         },
         "name": "4.3",
         "offsetgroup": "4.3",
         "orientation": "v",
         "showlegend": true,
         "textposition": "auto",
         "type": "bar",
         "x": [
          "OverIT S.p.A"
         ],
         "xaxis": "x",
         "y": [
          4.3
         ],
         "yaxis": "y"
        }
       ],
       "layout": {
        "barmode": "relative",
        "height": 400,
        "legend": {
         "title": {
          "text": "Ratings"
         },
         "tracegroupgap": 0
        },
        "margin": {
         "t": 60
        },
        "template": {
         "data": {
          "bar": [
           {
            "error_x": {
             "color": "#2a3f5f"
            },
            "error_y": {
             "color": "#2a3f5f"
            },
            "marker": {
             "line": {
              "color": "#E5ECF6",
              "width": 0.5
             },
             "pattern": {
              "fillmode": "overlay",
              "size": 10,
              "solidity": 0.2
             }
            },
            "type": "bar"
           }
          ],
          "barpolar": [
           {
            "marker": {
             "line": {
              "color": "#E5ECF6",
              "width": 0.5
             },
             "pattern": {
              "fillmode": "overlay",
              "size": 10,
              "solidity": 0.2
             }
            },
            "type": "barpolar"
           }
          ],
          "carpet": [
           {
            "aaxis": {
             "endlinecolor": "#2a3f5f",
             "gridcolor": "white",
             "linecolor": "white",
             "minorgridcolor": "white",
             "startlinecolor": "#2a3f5f"
            },
            "baxis": {
             "endlinecolor": "#2a3f5f",
             "gridcolor": "white",
             "linecolor": "white",
             "minorgridcolor": "white",
             "startlinecolor": "#2a3f5f"
            },
            "type": "carpet"
           }
          ],
          "choropleth": [
           {
            "colorbar": {
             "outlinewidth": 0,
             "ticks": ""
            },
            "type": "choropleth"
           }
          ],
          "contour": [
           {
            "colorbar": {
             "outlinewidth": 0,
             "ticks": ""
            },
            "colorscale": [
             [
              0,
              "#0d0887"
             ],
             [
              0.1111111111111111,
              "#46039f"
             ],
             [
              0.2222222222222222,
              "#7201a8"
             ],
             [
              0.3333333333333333,
              "#9c179e"
             ],
             [
              0.4444444444444444,
              "#bd3786"
             ],
             [
              0.5555555555555556,
              "#d8576b"
             ],
             [
              0.6666666666666666,
              "#ed7953"
             ],
             [
              0.7777777777777778,
              "#fb9f3a"
             ],
             [
              0.8888888888888888,
              "#fdca26"
             ],
             [
              1,
              "#f0f921"
             ]
            ],
            "type": "contour"
           }
          ],
          "contourcarpet": [
           {
            "colorbar": {
             "outlinewidth": 0,
             "ticks": ""
            },
            "type": "contourcarpet"
           }
          ],
          "heatmap": [
           {
            "colorbar": {
             "outlinewidth": 0,
             "ticks": ""
            },
            "colorscale": [
             [
              0,
              "#0d0887"
             ],
             [
              0.1111111111111111,
              "#46039f"
             ],
             [
              0.2222222222222222,
              "#7201a8"
             ],
             [
              0.3333333333333333,
              "#9c179e"
             ],
             [
              0.4444444444444444,
              "#bd3786"
             ],
             [
              0.5555555555555556,
              "#d8576b"
             ],
             [
              0.6666666666666666,
              "#ed7953"
             ],
             [
              0.7777777777777778,
              "#fb9f3a"
             ],
             [
              0.8888888888888888,
              "#fdca26"
             ],
             [
              1,
              "#f0f921"
             ]
            ],
            "type": "heatmap"
           }
          ],
          "heatmapgl": [
           {
            "colorbar": {
             "outlinewidth": 0,
             "ticks": ""
            },
            "colorscale": [
             [
              0,
              "#0d0887"
             ],
             [
              0.1111111111111111,
              "#46039f"
             ],
             [
              0.2222222222222222,
              "#7201a8"
             ],
             [
              0.3333333333333333,
              "#9c179e"
             ],
             [
              0.4444444444444444,
              "#bd3786"
             ],
             [
              0.5555555555555556,
              "#d8576b"
             ],
             [
              0.6666666666666666,
              "#ed7953"
             ],
             [
              0.7777777777777778,
              "#fb9f3a"
             ],
             [
              0.8888888888888888,
              "#fdca26"
             ],
             [
              1,
              "#f0f921"
             ]
            ],
            "type": "heatmapgl"
           }
          ],
          "histogram": [
           {
            "marker": {
             "pattern": {
              "fillmode": "overlay",
              "size": 10,
              "solidity": 0.2
             }
            },
            "type": "histogram"
           }
          ],
          "histogram2d": [
           {
            "colorbar": {
             "outlinewidth": 0,
             "ticks": ""
            },
            "colorscale": [
             [
              0,
              "#0d0887"
             ],
             [
              0.1111111111111111,
              "#46039f"
             ],
             [
              0.2222222222222222,
              "#7201a8"
             ],
             [
              0.3333333333333333,
              "#9c179e"
             ],
             [
              0.4444444444444444,
              "#bd3786"
             ],
             [
              0.5555555555555556,
              "#d8576b"
             ],
             [
              0.6666666666666666,
              "#ed7953"
             ],
             [
              0.7777777777777778,
              "#fb9f3a"
             ],
             [
              0.8888888888888888,
              "#fdca26"
             ],
             [
              1,
              "#f0f921"
             ]
            ],
            "type": "histogram2d"
           }
          ],
          "histogram2dcontour": [
           {
            "colorbar": {
             "outlinewidth": 0,
             "ticks": ""
            },
            "colorscale": [
             [
              0,
              "#0d0887"
             ],
             [
              0.1111111111111111,
              "#46039f"
             ],
             [
              0.2222222222222222,
              "#7201a8"
             ],
             [
              0.3333333333333333,
              "#9c179e"
             ],
             [
              0.4444444444444444,
              "#bd3786"
             ],
             [
              0.5555555555555556,
              "#d8576b"
             ],
             [
              0.6666666666666666,
              "#ed7953"
             ],
             [
              0.7777777777777778,
              "#fb9f3a"
             ],
             [
              0.8888888888888888,
              "#fdca26"
             ],
             [
              1,
              "#f0f921"
             ]
            ],
            "type": "histogram2dcontour"
           }
          ],
          "mesh3d": [
           {
            "colorbar": {
             "outlinewidth": 0,
             "ticks": ""
            },
            "type": "mesh3d"
           }
          ],
          "parcoords": [
           {
            "line": {
             "colorbar": {
              "outlinewidth": 0,
              "ticks": ""
             }
            },
            "type": "parcoords"
           }
          ],
          "pie": [
           {
            "automargin": true,
            "type": "pie"
           }
          ],
          "scatter": [
           {
            "fillpattern": {
             "fillmode": "overlay",
             "size": 10,
             "solidity": 0.2
            },
            "type": "scatter"
           }
          ],
          "scatter3d": [
           {
            "line": {
             "colorbar": {
              "outlinewidth": 0,
              "ticks": ""
             }
            },
            "marker": {
             "colorbar": {
              "outlinewidth": 0,
              "ticks": ""
             }
            },
            "type": "scatter3d"
           }
          ],
          "scattercarpet": [
           {
            "marker": {
             "colorbar": {
              "outlinewidth": 0,
              "ticks": ""
             }
            },
            "type": "scattercarpet"
           }
          ],
          "scattergeo": [
           {
            "marker": {
             "colorbar": {
              "outlinewidth": 0,
              "ticks": ""
             }
            },
            "type": "scattergeo"
           }
          ],
          "scattergl": [
           {
            "marker": {
             "colorbar": {
              "outlinewidth": 0,
              "ticks": ""
             }
            },
            "type": "scattergl"
           }
          ],
          "scattermapbox": [
           {
            "marker": {
             "colorbar": {
              "outlinewidth": 0,
              "ticks": ""
             }
            },
            "type": "scattermapbox"
           }
          ],
          "scatterpolar": [
           {
            "marker": {
             "colorbar": {
              "outlinewidth": 0,
              "ticks": ""
             }
            },
            "type": "scatterpolar"
           }
          ],
          "scatterpolargl": [
           {
            "marker": {
             "colorbar": {
              "outlinewidth": 0,
              "ticks": ""
             }
            },
            "type": "scatterpolargl"
           }
          ],
          "scatterternary": [
           {
            "marker": {
             "colorbar": {
              "outlinewidth": 0,
              "ticks": ""
             }
            },
            "type": "scatterternary"
           }
          ],
          "surface": [
           {
            "colorbar": {
             "outlinewidth": 0,
             "ticks": ""
            },
            "colorscale": [
             [
              0,
              "#0d0887"
             ],
             [
              0.1111111111111111,
              "#46039f"
             ],
             [
              0.2222222222222222,
              "#7201a8"
             ],
             [
              0.3333333333333333,
              "#9c179e"
             ],
             [
              0.4444444444444444,
              "#bd3786"
             ],
             [
              0.5555555555555556,
              "#d8576b"
             ],
             [
              0.6666666666666666,
              "#ed7953"
             ],
             [
              0.7777777777777778,
              "#fb9f3a"
             ],
             [
              0.8888888888888888,
              "#fdca26"
             ],
             [
              1,
              "#f0f921"
             ]
            ],
            "type": "surface"
           }
          ],
          "table": [
           {
            "cells": {
             "fill": {
              "color": "#EBF0F8"
             },
             "line": {
              "color": "white"
             }
            },
            "header": {
             "fill": {
              "color": "#C8D4E3"
             },
             "line": {
              "color": "white"
             }
            },
            "type": "table"
           }
          ]
         },
         "layout": {
          "annotationdefaults": {
           "arrowcolor": "#2a3f5f",
           "arrowhead": 0,
           "arrowwidth": 1
          },
          "autotypenumbers": "strict",
          "coloraxis": {
           "colorbar": {
            "outlinewidth": 0,
            "ticks": ""
           }
          },
          "colorscale": {
           "diverging": [
            [
             0,
             "#8e0152"
            ],
            [
             0.1,
             "#c51b7d"
            ],
            [
             0.2,
             "#de77ae"
            ],
            [
             0.3,
             "#f1b6da"
            ],
            [
             0.4,
             "#fde0ef"
            ],
            [
             0.5,
             "#f7f7f7"
            ],
            [
             0.6,
             "#e6f5d0"
            ],
            [
             0.7,
             "#b8e186"
            ],
            [
             0.8,
             "#7fbc41"
            ],
            [
             0.9,
             "#4d9221"
            ],
            [
             1,
             "#276419"
            ]
           ],
           "sequential": [
            [
             0,
             "#0d0887"
            ],
            [
             0.1111111111111111,
             "#46039f"
            ],
            [
             0.2222222222222222,
             "#7201a8"
            ],
            [
             0.3333333333333333,
             "#9c179e"
            ],
            [
             0.4444444444444444,
             "#bd3786"
            ],
            [
             0.5555555555555556,
             "#d8576b"
            ],
            [
             0.6666666666666666,
             "#ed7953"
            ],
            [
             0.7777777777777778,
             "#fb9f3a"
            ],
            [
             0.8888888888888888,
             "#fdca26"
            ],
            [
             1,
             "#f0f921"
            ]
           ],
           "sequentialminus": [
            [
             0,
             "#0d0887"
            ],
            [
             0.1111111111111111,
             "#46039f"
            ],
            [
             0.2222222222222222,
             "#7201a8"
            ],
            [
             0.3333333333333333,
             "#9c179e"
            ],
            [
             0.4444444444444444,
             "#bd3786"
            ],
            [
             0.5555555555555556,
             "#d8576b"
            ],
            [
             0.6666666666666666,
             "#ed7953"
            ],
            [
             0.7777777777777778,
             "#fb9f3a"
            ],
            [
             0.8888888888888888,
             "#fdca26"
            ],
            [
             1,
             "#f0f921"
            ]
           ]
          },
          "colorway": [
           "#636efa",
           "#EF553B",
           "#00cc96",
           "#ab63fa",
           "#FFA15A",
           "#19d3f3",
           "#FF6692",
           "#B6E880",
           "#FF97FF",
           "#FECB52"
          ],
          "font": {
           "color": "#2a3f5f"
          },
          "geo": {
           "bgcolor": "white",
           "lakecolor": "white",
           "landcolor": "#E5ECF6",
           "showlakes": true,
           "showland": true,
           "subunitcolor": "white"
          },
          "hoverlabel": {
           "align": "left"
          },
          "hovermode": "closest",
          "mapbox": {
           "style": "light"
          },
          "paper_bgcolor": "white",
          "plot_bgcolor": "#E5ECF6",
          "polar": {
           "angularaxis": {
            "gridcolor": "white",
            "linecolor": "white",
            "ticks": ""
           },
           "bgcolor": "#E5ECF6",
           "radialaxis": {
            "gridcolor": "white",
            "linecolor": "white",
            "ticks": ""
           }
          },
          "scene": {
           "xaxis": {
            "backgroundcolor": "#E5ECF6",
            "gridcolor": "white",
            "gridwidth": 2,
            "linecolor": "white",
            "showbackground": true,
            "ticks": "",
            "zerolinecolor": "white"
           },
           "yaxis": {
            "backgroundcolor": "#E5ECF6",
            "gridcolor": "white",
            "gridwidth": 2,
            "linecolor": "white",
            "showbackground": true,
            "ticks": "",
            "zerolinecolor": "white"
           },
           "zaxis": {
            "backgroundcolor": "#E5ECF6",
            "gridcolor": "white",
            "gridwidth": 2,
            "linecolor": "white",
            "showbackground": true,
            "ticks": "",
            "zerolinecolor": "white"
           }
          },
          "shapedefaults": {
           "line": {
            "color": "#2a3f5f"
           }
          },
          "ternary": {
           "aaxis": {
            "gridcolor": "white",
            "linecolor": "white",
            "ticks": ""
           },
           "baxis": {
            "gridcolor": "white",
            "linecolor": "white",
            "ticks": ""
           },
           "bgcolor": "#E5ECF6",
           "caxis": {
            "gridcolor": "white",
            "linecolor": "white",
            "ticks": ""
           }
          },
          "title": {
           "x": 0.05
          },
          "xaxis": {
           "automargin": true,
           "gridcolor": "white",
           "linecolor": "white",
           "ticks": "",
           "title": {
            "standoff": 15
           },
           "zerolinecolor": "white",
           "zerolinewidth": 2
          },
          "yaxis": {
           "automargin": true,
           "gridcolor": "white",
           "linecolor": "white",
           "ticks": "",
           "title": {
            "standoff": 15
           },
           "zerolinecolor": "white",
           "zerolinewidth": 2
          }
         }
        },
        "xaxis": {
         "anchor": "y",
         "domain": [
          0,
          1
         ],
         "title": {
          "text": "Company"
         }
        },
        "yaxis": {
         "anchor": "x",
         "categoryarray": [
          4.3,
          4,
          3.9,
          3.6,
          3.5,
          3.3,
          2.9
         ],
         "categoryorder": "array",
         "domain": [
          0,
          1
         ],
         "title": {
          "text": "Ratings"
         }
        }
       }
      }
     },
     "metadata": {},
     "output_type": "display_data"
    }
   ],
   "source": [
    "# Plot companies ratings\n",
    "\n",
    "def plot_ratings_companies(dati):\n",
    "    \"\"\"Apply all operations to plot data\"\"\"\n",
    "    dataset = dati.copy()\n",
    "    dataset['Ratings'] =  dataset['Ratings'].str.replace(',', '.').astype(float)     # Change data types for analysis\n",
    "    dataset['JobTitle'] = dataset['JobTitle'].str.lower()\n",
    "\n",
    "    # Count per Job title or Company\n",
    "    #jobtitles = dati.groupby('JobTitle').count().reset_index()\n",
    "    companies = dataset.groupby('Company').count().reset_index()\n",
    "\n",
    "    zero_ratings = companies.loc[companies['Ratings'] == 0]\n",
    "    company_names = zero_ratings.iloc[:, 0].values\n",
    "    print(f\"Companies without rating: {company_names}\")\n",
    "\n",
    "    # Ratings x company\n",
    "    plot_ratings = dataset.fillna('')\n",
    "    plot_ratings = plot_ratings.loc[plot_ratings['Ratings'] != '']\n",
    "    sorted_plot_ratings = plot_ratings.sort_values(by='Ratings').drop_duplicates(subset='Company')\n",
    "    return sorted_plot_ratings\n",
    "\n",
    "sorted_plot_ratings = plot_ratings_companies(dati)\n",
    "fig = px.bar(sorted_plot_ratings, \n",
    "             x='Company', \n",
    "             y='Ratings',\n",
    "             hover_data=['Location', 'Job_types'], \n",
    "             color='Ratings',\n",
    "             labels={'Salario':'Salary'}, \n",
    "             height=400)\n",
    "\n",
    "fig.show()"
   ]
  },
  {
   "cell_type": "markdown",
   "id": "2acb8a81",
   "metadata": {},
   "source": [
    "## See the most used words for job descriptions"
   ]
  },
  {
   "cell_type": "code",
   "execution_count": 33,
   "id": "3f517d67",
   "metadata": {},
   "outputs": [
    {
     "name": "stdout",
     "output_type": "stream",
     "text": [
      "...['competenze', 'avanzate', 'data', 'management', 'modeling', 'mining', 'conoscenza', 'comuni', 'software', 'analytics']\n"
     ]
    },
    {
     "data": {
      "image/png": "[encoded data removed]",
      "text/plain": [
       "<Figure size 800x800 with 1 Axes>"
      ]
     },
     "metadata": {},
     "output_type": "display_data"
    }
   ],
   "source": [
    "# See the most used words for job descriptions\n",
    "descrizioni = dati['Description']\n",
    "descriptions = []\n",
    "\n",
    "for desc in descrizioni:\n",
    "    descriptions.append(desc)\n",
    "\n",
    "# Cleaning\n",
    "def strip_puntuactions(line):\n",
    "    \"\"\"Function for replacing special characters %^&* to empty string\"\"\"\n",
    "    for character in string.punctuation:\n",
    "        line = line.replace(character, \"\")\n",
    "    return line  \n",
    "\n",
    "def exclude_stop_words(descriptions):\n",
    "    stop_words_it = stopwords.words('italian')\n",
    "    stop_words_eng = stopwords.words('english')\n",
    "    stop_words = stop_words_it.copy()\n",
    "    stop_words.extend(stop_words_eng)\n",
    "    filtered_list = []\n",
    "    \n",
    "    for line in descriptions:\n",
    "        #\"\"\"Exclude special characters\"\"\"\n",
    "        line = strip_puntuactions(line)\n",
    "        words = line.split()\n",
    "\n",
    "    for word in words:\n",
    "        #\"\"\"Exclude stop words\"\"\"\n",
    "        if word.lower() not in stop_words:\n",
    "            filtered_list.append(word)\n",
    "    return filtered_list\n",
    "\n",
    "# Analysis\n",
    "def wordCount_Freq(filtered_list):\n",
    "    word_count = {}\n",
    "\n",
    "    for line in filtered_list:\n",
    "        line = strip_puntuactions(line)\n",
    "        words = line.split()\n",
    "\n",
    "        for word in words:\n",
    "            word = word.lower()\n",
    "            if word not in word_count:\n",
    "                word_count[word] = 0\n",
    "            word_count[word] += 1\n",
    "\n",
    "    print(f\"...{list(word_count.keys())[:10]}\")\n",
    "    return word_count\n",
    "\n",
    "filtered_list = exclude_stop_words(descriptions)\n",
    "word_count = wordCount_Freq(filtered_list)   \n",
    "# main()\n",
    "\n",
    "##### PLOTS \n",
    "# Plot most used words in  a word plot\n",
    "def create_word_cloud(word_count):\n",
    "    wordcloud = WordCloud(width=800, height=800, background_color='white', colormap='inferno').generate_from_frequencies(word_count)\n",
    "    plt.figure(figsize=(8, 8))\n",
    "    plt.imshow(wordcloud, interpolation='bilinear')\n",
    "    plt.axis('off')\n",
    "    plt.show()\n",
    "\n",
    "# word_count is the dictionary of word frequency\n",
    "create_word_cloud(word_count)"
   ]
  },
  {
   "cell_type": "markdown",
   "id": "afb84840",
   "metadata": {},
   "source": [
    "## Key words (Programming languages extracted in wikipedia and visualizations tools)"
   ]
  },
  {
   "cell_type": "code",
   "execution_count": 27,
   "id": "f84f01bd",
   "metadata": {},
   "outputs": [
    {
     "ename": "AttributeError",
     "evalue": "'DataFrame' object has no attribute 'split'",
     "output_type": "error",
     "traceback": [
      "\u001b[1;31m---------------------------------------------------------------------------\u001b[0m",
      "\u001b[1;31mAttributeError\u001b[0m                            Traceback (most recent call last)",
      "\u001b[1;32m~\\AppData\\Local\\Temp\\ipykernel_6284\\312073533.py\u001b[0m in \u001b[0;36m?\u001b[1;34m()\u001b[0m\n\u001b[0;32m      1\u001b[0m \u001b[0mprogramming_languages\u001b[0m \u001b[1;33m=\u001b[0m \u001b[0mprogramming_languages0\u001b[0m\u001b[1;33m[\u001b[0m\u001b[1;36m0\u001b[0m\u001b[1;33m]\u001b[0m\u001b[1;33m\u001b[0m\u001b[1;33m\u001b[0m\u001b[0m\n\u001b[0;32m      2\u001b[0m \u001b[1;32mfor\u001b[0m \u001b[0mi\u001b[0m \u001b[1;32min\u001b[0m \u001b[0mprogramming_languages\u001b[0m\u001b[1;33m:\u001b[0m\u001b[1;33m\u001b[0m\u001b[1;33m\u001b[0m\u001b[0m\n\u001b[1;32m----> 3\u001b[1;33m     \u001b[0mprogramming_languages\u001b[0m \u001b[1;33m=\u001b[0m \u001b[0mprogramming_languages0\u001b[0m\u001b[1;33m.\u001b[0m\u001b[0msplit\u001b[0m\u001b[1;33m(\u001b[0m\u001b[1;34m\"\\n\"\u001b[0m\u001b[1;33m)\u001b[0m\u001b[1;33m\u001b[0m\u001b[1;33m\u001b[0m\u001b[0m\n\u001b[0m\u001b[0;32m      4\u001b[0m \u001b[1;31m# Key Words (programming languages extracted in wikipedia)\u001b[0m\u001b[1;33m\u001b[0m\u001b[1;33m\u001b[0m\u001b[0m\n\u001b[0;32m      5\u001b[0m \u001b[1;31m# def indeed_programming_languages():\u001b[0m\u001b[1;33m\u001b[0m\u001b[1;33m\u001b[0m\u001b[0m\n\u001b[0;32m      6\u001b[0m \u001b[1;31m#     # Open file with all programming languages\u001b[0m\u001b[1;33m\u001b[0m\u001b[1;33m\u001b[0m\u001b[0m\n",
      "\u001b[1;32mc:\\Users\\marti\\AppData\\Local\\Programs\\Python\\Python310\\lib\\site-packages\\pandas\\core\\generic.py\u001b[0m in \u001b[0;36m?\u001b[1;34m(self, name)\u001b[0m\n\u001b[0;32m   5571\u001b[0m             \u001b[1;32mand\u001b[0m \u001b[0mname\u001b[0m \u001b[1;32mnot\u001b[0m \u001b[1;32min\u001b[0m \u001b[0mself\u001b[0m\u001b[1;33m.\u001b[0m\u001b[0m_accessors\u001b[0m\u001b[1;33m\u001b[0m\u001b[1;33m\u001b[0m\u001b[0m\n\u001b[0;32m   5572\u001b[0m             \u001b[1;32mand\u001b[0m \u001b[0mself\u001b[0m\u001b[1;33m.\u001b[0m\u001b[0m_info_axis\u001b[0m\u001b[1;33m.\u001b[0m\u001b[0m_can_hold_identifiers_and_holds_name\u001b[0m\u001b[1;33m(\u001b[0m\u001b[0mname\u001b[0m\u001b[1;33m)\u001b[0m\u001b[1;33m\u001b[0m\u001b[1;33m\u001b[0m\u001b[0m\n\u001b[0;32m   5573\u001b[0m         ):\n\u001b[0;32m   5574\u001b[0m             \u001b[1;32mreturn\u001b[0m \u001b[0mself\u001b[0m\u001b[1;33m[\u001b[0m\u001b[0mname\u001b[0m\u001b[1;33m]\u001b[0m\u001b[1;33m\u001b[0m\u001b[1;33m\u001b[0m\u001b[0m\n\u001b[1;32m-> 5575\u001b[1;33m         \u001b[1;32mreturn\u001b[0m \u001b[0mobject\u001b[0m\u001b[1;33m.\u001b[0m\u001b[0m__getattribute__\u001b[0m\u001b[1;33m(\u001b[0m\u001b[0mself\u001b[0m\u001b[1;33m,\u001b[0m \u001b[0mname\u001b[0m\u001b[1;33m)\u001b[0m\u001b[1;33m\u001b[0m\u001b[1;33m\u001b[0m\u001b[0m\n\u001b[0m",
      "\u001b[1;31mAttributeError\u001b[0m: 'DataFrame' object has no attribute 'split'"
     ]
    }
   ],
   "source": [
    "## in progresss\n",
    "programming_languages = programming_languages0[0]\n",
    "\n",
    "# Key Words (programming languages extracted in wikipedia)\n",
    "# def indeed_programming_languages():\n",
    "#     # Open file with all programming languages    \n",
    "#     programming_languages = programming_languages0.split(\"\\n\") # replacing end splitting the text when newline ('\\n') is seen\n",
    "    \n",
    "#     languages_inDescriptions = []\n",
    "\n",
    "#     for language in programming_languages:\n",
    "#         language = strip_puntuactions(language)\n",
    "#         for description in descriptions:\n",
    "#             if language.lower() in description.lower():\n",
    "#                 languages_inDescriptions.append(language)\n",
    "#                 break\n",
    "    \n",
    "#     return languages_inDescriptions\n",
    "\n",
    "# # def main():\n",
    "# languages_inDescriptions = indeed_programming_languages()\n",
    "# languages_inDescriptions"
   ]
  },
  {
   "cell_type": "code",
   "execution_count": null,
   "id": "22bc20e0",
   "metadata": {},
   "outputs": [],
   "source": []
  }
 ],
 "metadata": {
  "kernelspec": {
   "display_name": "Python 3 (ipykernel)",
   "language": "python",
   "name": "python3"
  },
  "language_info": {
   "codemirror_mode": {
    "name": "ipython",
    "version": 3
   },
   "file_extension": ".py",
   "mimetype": "text/x-python",
   "name": "python",
   "nbconvert_exporter": "python",
   "pygments_lexer": "ipython3",
   "version": "3.9.12"
  }
 },
 "nbformat": 4,
 "nbformat_minor": 5
}
